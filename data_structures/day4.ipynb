{
 "cells": [
  {
   "attachments": {},
   "cell_type": "markdown",
   "metadata": {},
   "source": [
    "In MATLAB, there is a handy function called reshape which can reshape an m x n matrix into a new one with a different size r x c keeping its original data.\n",
    "\n",
    "You are given an m x n matrix mat and two integers r and c representing the number of rows and the number of columns of the wanted reshaped matrix.\n",
    "\n",
    "The reshaped matrix should be filled with all the elements of the original matrix in the same row-traversing order as they were.\n",
    "\n",
    "If the reshape operation with given parameters is possible and legal, output the new reshaped matrix; Otherwise, output the original matrix.\n",
    "\n",
    " \n",
    "\n",
    "Example 1:\n",
    "\n",
    "\n",
    "Input: mat = [[1,2],[3,4]], r = 1, c = 4\n",
    "Output: [[1,2,3,4]]\n",
    "Example 2:\n",
    "\n",
    "\n",
    "Input: mat = [[1,2],[3,4]], r = 2, c = 4\n",
    "Output: [[1,2],[3,4]]"
   ]
  },
  {
   "cell_type": "code",
   "execution_count": 2,
   "metadata": {},
   "outputs": [],
   "source": [
    "from typing import List\n",
    "class Solution:\n",
    "    def matrixReshape(self, mat: List[List[int]], r: int, c: int) -> List[List[int]]:\n",
    "        output = []\n",
    "        flatten = []\n",
    "\n",
    "        for l in mat:\n",
    "            for i in l:\n",
    "                flatten.append(i)\n",
    "\n",
    "        if (r * c) != len(flatten):\n",
    "            return mat \n",
    "        else:\n",
    "            for row_index in range(r):\n",
    "                output.append(flatten[row_index * c : row_index * c + c])\n",
    "\n",
    "            return output"
   ]
  },
  {
   "cell_type": "markdown",
   "metadata": {},
   "source": []
  }
 ],
 "metadata": {
  "kernelspec": {
   "display_name": "Python 3",
   "language": "python",
   "name": "python3"
  },
  "language_info": {
   "codemirror_mode": {
    "name": "ipython",
    "version": 3
   },
   "file_extension": ".py",
   "mimetype": "text/x-python",
   "name": "python",
   "nbconvert_exporter": "python",
   "pygments_lexer": "ipython3",
   "version": "3.9.6"
  },
  "orig_nbformat": 4,
  "vscode": {
   "interpreter": {
    "hash": "5246ef7546178182c42fab824f3e1fd63435c6365c8ef5ca017aae19988ff62f"
   }
  }
 },
 "nbformat": 4,
 "nbformat_minor": 2
}
