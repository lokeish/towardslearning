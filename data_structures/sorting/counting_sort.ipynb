{
 "cells": [
  {
   "attachments": {},
   "cell_type": "markdown",
   "metadata": {},
   "source": [
    "# Algorithm\n",
    "### Step -1\n",
    "### Take the max element from the array\n",
    "### Create the count array[max+1]\n",
    "### Keep the count frequency in count array\n",
    "### do the cummulative sum\n",
    "### map the elements from orig array to the count array\n",
    "### sorted"
   ]
  },
  {
   "cell_type": "code",
   "execution_count": 33,
   "metadata": {},
   "outputs": [
    {
     "name": "stdout",
     "output_type": "stream",
     "text": [
      "original array [3, 5, 2, 6, 9, 1, 1]\n",
      "count_array [0, 2, 3, 4, 4, 5, 6, 6, 6, 7]\n",
      "output_arr [0, 0, 0, 0, 0, 0, 0]\n",
      "0\n",
      "0\n",
      "8\n",
      "5\n",
      "1\n",
      "4\n",
      "2\n"
     ]
    }
   ],
   "source": [
    "arr = [3,5,2,6,9,1,1]\n",
    "output_arr = [0] * int(len(arr))\n",
    "max_element = max(arr)\n",
    "count_array = [0] * int(max_element + 1)\n",
    "\n",
    "# freq count\n",
    "for key, val in enumerate(arr):\n",
    "    count_array[val] += 1\n",
    "\n",
    "# cummulative sum\n",
    "for i in range(1,len(count_array)):\n",
    "    count_array[i] +=  count_array[i-1]\n",
    "\n",
    "print(\"original array\", arr)\n",
    "print(\"count_array\", count_array)\n",
    "print(\"output_arr\", output_arr)\n",
    "i = int(len(arr) - 1)\n",
    "\n",
    "while i >= 0:\n",
    "    print(arr[i]-1)\n",
    "    output_arr[count_array[arr[i]] - 1] = arr[i]\n",
    "    count_array[arr[i]] -= 1\n",
    "    i -= 1\n",
    "\n"
   ]
  },
  {
   "cell_type": "code",
   "execution_count": 27,
   "metadata": {},
   "outputs": [
    {
     "data": {
      "text/plain": [
       "[1, 1, 2, 3, 5, 6, 9]"
      ]
     },
     "execution_count": 27,
     "metadata": {},
     "output_type": "execute_result"
    }
   ],
   "source": [
    "output_arr"
   ]
  },
  {
   "cell_type": "code",
   "execution_count": 28,
   "metadata": {},
   "outputs": [
    {
     "data": {
      "text/plain": [
       "7"
      ]
     },
     "execution_count": 28,
     "metadata": {},
     "output_type": "execute_result"
    }
   ],
   "source": [
    "len(arr)"
   ]
  },
  {
   "cell_type": "code",
   "execution_count": 29,
   "metadata": {},
   "outputs": [
    {
     "data": {
      "text/plain": [
       "[0, 0, 2, 3, 4, 4, 5, 6, 6, 6]"
      ]
     },
     "execution_count": 29,
     "metadata": {},
     "output_type": "execute_result"
    }
   ],
   "source": [
    "count_array"
   ]
  },
  {
   "cell_type": "code",
   "execution_count": null,
   "metadata": {},
   "outputs": [],
   "source": []
  }
 ],
 "metadata": {
  "kernelspec": {
   "display_name": "Python 3",
   "language": "python",
   "name": "python3"
  },
  "language_info": {
   "codemirror_mode": {
    "name": "ipython",
    "version": 3
   },
   "file_extension": ".py",
   "mimetype": "text/x-python",
   "name": "python",
   "nbconvert_exporter": "python",
   "pygments_lexer": "ipython3",
   "version": "3.9.6"
  },
  "orig_nbformat": 4,
  "vscode": {
   "interpreter": {
    "hash": "5246ef7546178182c42fab824f3e1fd63435c6365c8ef5ca017aae19988ff62f"
   }
  }
 },
 "nbformat": 4,
 "nbformat_minor": 2
}
