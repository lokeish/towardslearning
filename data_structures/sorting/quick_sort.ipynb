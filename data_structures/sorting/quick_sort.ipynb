{
 "cells": [
  {
   "attachments": {},
   "cell_type": "markdown",
   "metadata": {},
   "source": [
    "Quick sort uses pivot element to sort the array, take start and end values, increment start value when you find the element less than pivot else stop incrementing, and decrement the end value when you find greater element than pivot else stop it, once start and end are in stop position, then you make swap. swapping only happens only when start is less than end, if its greater then you can swap the end and pivot element. once after the pivot swap the left side will be all less and right side will be all greater, now you can resume the start and end to the left of element and the right of elements, like this you can sort list."
   ]
  },
  {
   "cell_type": "code",
   "execution_count": 91,
   "metadata": {},
   "outputs": [],
   "source": [
    "l = [7,6,10,5,9,21,15,7]\n",
    "\n",
    "\n",
    "def partition(a, lb, ub):\n",
    "    pivot = a[lb]\n",
    "    start = lb \n",
    "    end = ub\n",
    "\n",
    "    while start < end:\n",
    "        while (a[start] <= pivot):\n",
    "            start += 1\n",
    "\n",
    "        while (a[end] > pivot):\n",
    "            end -= 1\n",
    "\n",
    "        if start < end:\n",
    "            temp = a[end]\n",
    "            a[end] = a[start]\n",
    "            a[start] = temp\n",
    "\n",
    "    a[lb] = a[end]\n",
    "    a[end] = pivot\n",
    "    return end\n",
    "\n",
    "def quick_sort(arr, lb, ub):\n",
    "    if (lb < ub):\n",
    "        loc = partition(arr, lb, ub)\n",
    "        quick_sort(arr, lb, loc-1)\n",
    "        quick_sort(arr, loc+1, ub)\n",
    "        \n"
   ]
  },
  {
   "cell_type": "code",
   "execution_count": 92,
   "metadata": {},
   "outputs": [],
   "source": [
    "l = [7,6,10,5,9,21,15,7, 9999999]\n",
    "lb = 0\n",
    "ub = len(l) - 1"
   ]
  },
  {
   "cell_type": "code",
   "execution_count": 93,
   "metadata": {},
   "outputs": [
    {
     "name": "stdout",
     "output_type": "stream",
     "text": [
      "[5, 6, 7, 7, 9, 10, 15, 21, 9999999]\n"
     ]
    }
   ],
   "source": [
    "quick_sort(l, lb, ub)\n",
    "print(l)"
   ]
  },
  {
   "cell_type": "code",
   "execution_count": null,
   "metadata": {},
   "outputs": [],
   "source": []
  }
 ],
 "metadata": {
  "kernelspec": {
   "display_name": "Python 3",
   "language": "python",
   "name": "python3"
  },
  "language_info": {
   "codemirror_mode": {
    "name": "ipython",
    "version": 3
   },
   "file_extension": ".py",
   "mimetype": "text/x-python",
   "name": "python",
   "nbconvert_exporter": "python",
   "pygments_lexer": "ipython3",
   "version": "3.9.6"
  },
  "orig_nbformat": 4,
  "vscode": {
   "interpreter": {
    "hash": "5246ef7546178182c42fab824f3e1fd63435c6365c8ef5ca017aae19988ff62f"
   }
  }
 },
 "nbformat": 4,
 "nbformat_minor": 2
}
