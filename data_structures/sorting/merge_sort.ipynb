{
 "cells": [
  {
   "cell_type": "code",
   "execution_count": 196,
   "metadata": {},
   "outputs": [],
   "source": [
    "def merge(arr, l, m, r):\n",
    "    print(\"merge function call\")\n",
    "    n1 = m -l +1\n",
    "    n2 = r-m\n",
    "    list1 = [0] * n1\n",
    "    list2 = [0] * n2\n",
    " \n",
    "    # copy the array elements\n",
    "    for i in range(0, n1):\n",
    "        list1[i] = arr[l+i]\n",
    "\n",
    "    for j in range(0, n2):\n",
    "        list2[j] = arr[m+1+j]\n",
    "    \n",
    "    i = 0\n",
    "    j = 0\n",
    "    k = l\n",
    "    \n",
    "    while i<n1 and j<n2:\n",
    "        if list1[i] <= list2[j]:\n",
    "            arr[k] = list1[i]\n",
    "            i += 1\n",
    "        else:\n",
    "            arr[k] = list2[j]\n",
    "            j += 1\n",
    "\n",
    "        k += 1\n",
    "\n",
    "    while i < n1:\n",
    "        arr[k] = list1[i]\n",
    "        i += 1\n",
    "        k += 1\n",
    " \n",
    "    while j < n2:\n",
    "        arr[k] = list2[j]\n",
    "        j += 1\n",
    "        k += 1\n",
    "\n",
    "def merge_sort(arr, l, r):\n",
    "    if l < r:\n",
    "        m = l+(r-l)//2\n",
    "        print(\"mid value ->\", m)\n",
    "        print(\"left merge function -> %s, %s %s\",l, m, arr)\n",
    "        merge_sort(arr, l, m)\n",
    "        print(\"right merge function -> %s, %s %s\",r, m+1, arr)\n",
    "        merge_sort(arr, m+1, r)\n",
    "        print(\"merge function -> -%s, -%s -%s -%s\",arr, l, m, r)\n",
    "        merge(arr, l, m, r)"
   ]
  },
  {
   "cell_type": "code",
   "execution_count": 200,
   "metadata": {},
   "outputs": [
    {
     "name": "stdout",
     "output_type": "stream",
     "text": [
      "mid value -> 4\n",
      "left merge function -> %s, %s %s 0 4 [15, 5, 24, 8, 1, 3, 16, 10, 20]\n",
      "mid value -> 2\n",
      "left merge function -> %s, %s %s 0 2 [15, 5, 24, 8, 1, 3, 16, 10, 20]\n",
      "mid value -> 1\n",
      "left merge function -> %s, %s %s 0 1 [15, 5, 24, 8, 1, 3, 16, 10, 20]\n",
      "mid value -> 0\n",
      "left merge function -> %s, %s %s 0 0 [15, 5, 24, 8, 1, 3, 16, 10, 20]\n",
      "right merge function -> %s, %s %s 1 1 [15, 5, 24, 8, 1, 3, 16, 10, 20]\n",
      "merge function -> -%s, -%s -%s -%s [15, 5, 24, 8, 1, 3, 16, 10, 20] 0 0 1\n",
      "merge function call\n",
      "right merge function -> %s, %s %s 2 2 [5, 15, 24, 8, 1, 3, 16, 10, 20]\n",
      "merge function -> -%s, -%s -%s -%s [5, 15, 24, 8, 1, 3, 16, 10, 20] 0 1 2\n",
      "merge function call\n",
      "right merge function -> %s, %s %s 4 3 [5, 15, 24, 8, 1, 3, 16, 10, 20]\n",
      "mid value -> 3\n",
      "left merge function -> %s, %s %s 3 3 [5, 15, 24, 8, 1, 3, 16, 10, 20]\n",
      "right merge function -> %s, %s %s 4 4 [5, 15, 24, 8, 1, 3, 16, 10, 20]\n",
      "merge function -> -%s, -%s -%s -%s [5, 15, 24, 8, 1, 3, 16, 10, 20] 3 3 4\n",
      "merge function call\n",
      "merge function -> -%s, -%s -%s -%s [5, 15, 24, 1, 8, 3, 16, 10, 20] 0 2 4\n",
      "merge function call\n",
      "right merge function -> %s, %s %s 8 5 [1, 5, 8, 15, 24, 3, 16, 10, 20]\n",
      "mid value -> 6\n",
      "left merge function -> %s, %s %s 5 6 [1, 5, 8, 15, 24, 3, 16, 10, 20]\n",
      "mid value -> 5\n",
      "left merge function -> %s, %s %s 5 5 [1, 5, 8, 15, 24, 3, 16, 10, 20]\n",
      "right merge function -> %s, %s %s 6 6 [1, 5, 8, 15, 24, 3, 16, 10, 20]\n",
      "merge function -> -%s, -%s -%s -%s [1, 5, 8, 15, 24, 3, 16, 10, 20] 5 5 6\n",
      "merge function call\n",
      "right merge function -> %s, %s %s 8 7 [1, 5, 8, 15, 24, 3, 16, 10, 20]\n",
      "mid value -> 7\n",
      "left merge function -> %s, %s %s 7 7 [1, 5, 8, 15, 24, 3, 16, 10, 20]\n",
      "right merge function -> %s, %s %s 8 8 [1, 5, 8, 15, 24, 3, 16, 10, 20]\n",
      "merge function -> -%s, -%s -%s -%s [1, 5, 8, 15, 24, 3, 16, 10, 20] 7 7 8\n",
      "merge function call\n",
      "merge function -> -%s, -%s -%s -%s [1, 5, 8, 15, 24, 3, 16, 10, 20] 5 6 8\n",
      "merge function call\n",
      "merge function -> -%s, -%s -%s -%s [1, 5, 8, 15, 24, 3, 10, 16, 20] 0 4 8\n",
      "merge function call\n"
     ]
    }
   ],
   "source": [
    "arr = [15,5,24,8,1,3,16,10,20]\n",
    "n = len(arr)-1\n",
    "merge_sort(arr, 0, n)"
   ]
  },
  {
   "cell_type": "code",
   "execution_count": 198,
   "metadata": {},
   "outputs": [
    {
     "data": {
      "text/plain": [
       "[5, 6, 7, 11, 12, 13]"
      ]
     },
     "execution_count": 198,
     "metadata": {},
     "output_type": "execute_result"
    }
   ],
   "source": [
    "arr"
   ]
  },
  {
   "cell_type": "code",
   "execution_count": null,
   "metadata": {},
   "outputs": [],
   "source": []
  }
 ],
 "metadata": {
  "kernelspec": {
   "display_name": "Python 3",
   "language": "python",
   "name": "python3"
  },
  "language_info": {
   "codemirror_mode": {
    "name": "ipython",
    "version": 3
   },
   "file_extension": ".py",
   "mimetype": "text/x-python",
   "name": "python",
   "nbconvert_exporter": "python",
   "pygments_lexer": "ipython3",
   "version": "3.9.6"
  },
  "orig_nbformat": 4,
  "vscode": {
   "interpreter": {
    "hash": "5246ef7546178182c42fab824f3e1fd63435c6365c8ef5ca017aae19988ff62f"
   }
  }
 },
 "nbformat": 4,
 "nbformat_minor": 2
}
