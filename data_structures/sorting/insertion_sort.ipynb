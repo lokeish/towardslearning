{
 "cells": [
  {
   "cell_type": "code",
   "execution_count": 7,
   "metadata": {},
   "outputs": [
    {
     "name": "stdout",
     "output_type": "stream",
     "text": [
      "[0, 1, 2, 5, 8, 88]\n"
     ]
    }
   ],
   "source": [
    "l = [2,1,0,88,5,8]\n",
    "\n",
    "for step in range(1, len(l)):\n",
    "    # Take from index 1\n",
    "    key = l[step]\n",
    "    # Take left element of key\n",
    "    j = step - 1\n",
    "    # if key is less than left element then only enter.\n",
    "    while j >= 0 and key < l[j]:\n",
    "        l[j+1] = l[j]\n",
    "        j = j - 1\n",
    "    \n",
    "    # keep the key in its position\n",
    "    l[j+ 1] = key\n",
    "\n",
    "print(l)\n"
   ]
  },
  {
   "cell_type": "markdown",
   "metadata": {},
   "source": [
    "best = O(n)\n",
    "worst, average = O(n2)"
   ]
  },
  {
   "cell_type": "markdown",
   "metadata": {},
   "source": [
    "concept_referrence = https://www.programiz.com/dsa/insertion-sort"
   ]
  },
  {
   "cell_type": "markdown",
   "metadata": {},
   "source": []
  }
 ],
 "metadata": {
  "kernelspec": {
   "display_name": "Python 3",
   "language": "python",
   "name": "python3"
  },
  "language_info": {
   "codemirror_mode": {
    "name": "ipython",
    "version": 3
   },
   "file_extension": ".py",
   "mimetype": "text/x-python",
   "name": "python",
   "nbconvert_exporter": "python",
   "pygments_lexer": "ipython3",
   "version": "3.9.6"
  },
  "orig_nbformat": 4,
  "vscode": {
   "interpreter": {
    "hash": "5246ef7546178182c42fab824f3e1fd63435c6365c8ef5ca017aae19988ff62f"
   }
  }
 },
 "nbformat": 4,
 "nbformat_minor": 2
}
