{
 "cells": [
  {
   "cell_type": "code",
   "execution_count": 1,
   "metadata": {},
   "outputs": [
    {
     "name": "stdout",
     "output_type": "stream",
     "text": [
      "[1, 3, 4, 5, 10, 99]\n"
     ]
    }
   ],
   "source": [
    "l = [3,1,4,5,99,10]\n",
    "\n",
    "# applyting selection sort\n",
    "for i in range(0, len(l)):\n",
    "    # set current index as minimum value\n",
    "    curr_min = i\n",
    "\n",
    "    for j in range(i+1, len(l)):\n",
    "\n",
    "        # compare minimum value and the next element, if curr element is smaller then swap it.\n",
    "        if l[j] < l[curr_min]:\n",
    "            curr_min = j\n",
    "\n",
    "    # in each iteration swap the min element to the front\n",
    "    a = l[curr_min]\n",
    "    b = l[i]\n",
    "\n",
    "    l[i] = a\n",
    "    l[curr_min] = b\n",
    "    \n",
    "\n",
    "print(l)\n",
    "\n",
    "    \n"
   ]
  },
  {
   "attachments": {},
   "cell_type": "markdown",
   "metadata": {},
   "source": [
    "### concept link https://www.programiz.com/dsa/selection-sort"
   ]
  },
  {
   "cell_type": "markdown",
   "metadata": {},
   "source": []
  }
 ],
 "metadata": {
  "kernelspec": {
   "display_name": "Python 3",
   "language": "python",
   "name": "python3"
  },
  "language_info": {
   "codemirror_mode": {
    "name": "ipython",
    "version": 3
   },
   "file_extension": ".py",
   "mimetype": "text/x-python",
   "name": "python",
   "nbconvert_exporter": "python",
   "pygments_lexer": "ipython3",
   "version": "3.9.6"
  },
  "orig_nbformat": 4,
  "vscode": {
   "interpreter": {
    "hash": "5246ef7546178182c42fab824f3e1fd63435c6365c8ef5ca017aae19988ff62f"
   }
  }
 },
 "nbformat": 4,
 "nbformat_minor": 2
}
